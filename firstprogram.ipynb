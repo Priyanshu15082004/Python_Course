{
 "cells": [
  {
   "cell_type": "code",
   "execution_count": null,
   "id": "d925ee4c",
   "metadata": {},
   "outputs": [],
   "source": [
    "print(\"hello world.\",\"My name is \")\n",
    "print(23)\n",
    "print(35+10)"
   ]
  },
  {
   "cell_type": "markdown",
   "id": "d3165282",
   "metadata": {},
   "source": [
    "Variable \n",
    "\n",
    "A variable is a name given to a memory location in a program  "
   ]
  },
  {
   "cell_type": "code",
   "execution_count": 62,
   "id": "ace13141",
   "metadata": {},
   "outputs": [
    {
     "name": "stdout",
     "output_type": "stream",
     "text": [
      "21\n",
      "<class 'str'>\n",
      "<class 'int'>\n",
      "<class 'float'>\n",
      "<class 'bool'>\n",
      "<class 'NoneType'>\n"
     ]
    }
   ],
   "source": [
    "# name , age , price , old , a are the variable \n",
    "name = \"Priyanshu\" \n",
    "age = 21\n",
    "price = 25.99 \n",
    "old = False\n",
    "a = None\n",
    "\n",
    "age2 = age \n",
    "\n",
    "print(age2)\n",
    "print(type(name))\n",
    "print(type(age))\n",
    "print(type(price))\n",
    "print(type(old))\n",
    "print(type(a))"
   ]
  },
  {
   "cell_type": "code",
   "execution_count": 61,
   "id": "026590ff",
   "metadata": {},
   "outputs": [
    {
     "name": "stdout",
     "output_type": "stream",
     "text": [
      "1500\n"
     ]
    }
   ],
   "source": [
    "a = 1000\n",
    "b = 500 \n",
    "sum = a+b \n",
    "print(sum)"
   ]
  },
  {
   "cell_type": "markdown",
   "id": "63d80e97",
   "metadata": {},
   "source": [
    "Operators\n",
    "\n",
    "An Operator is a symbol that performs a certain operation between operands"
   ]
  },
  {
   "cell_type": "code",
   "execution_count": 60,
   "id": "bfec69e8",
   "metadata": {},
   "outputs": [
    {
     "name": "stdout",
     "output_type": "stream",
     "text": [
      "7\n",
      "3\n",
      "10\n",
      "2.5\n",
      "1\n",
      "25\n"
     ]
    }
   ],
   "source": [
    "# arithmetic operators\n",
    "a = 5\n",
    "b = 2\n",
    "print(a+b)\n",
    "print(a-b)\n",
    "print(a*b)\n",
    "print(a/b)\n",
    "print(a % b) # Remainder\n",
    "print(a ** b) # a^b\n",
    "\n"
   ]
  },
  {
   "cell_type": "code",
   "execution_count": 56,
   "id": "a3127479",
   "metadata": {},
   "outputs": [
    {
     "name": "stdout",
     "output_type": "stream",
     "text": [
      "False\n",
      "True\n",
      "True\n",
      "True\n",
      "False\n",
      "False\n"
     ]
    }
   ],
   "source": [
    "# Relational operators \n",
    "a = 50\n",
    "b = 20\n",
    "print( a==b )\n",
    "print(a != b)\n",
    "print(a >= b)\n",
    "print( a > b)\n",
    "print(a <= b)\n",
    "print(a < b)"
   ]
  },
  {
   "cell_type": "code",
   "execution_count": 57,
   "id": "45890d0d",
   "metadata": {},
   "outputs": [
    {
     "name": "stdout",
     "output_type": "stream",
     "text": [
      "num 30\n"
     ]
    }
   ],
   "source": [
    "# Assignment Operators\n",
    "num = 10 \n",
    "num = num + 10 # 10+10 = 20 \n",
    "num += 10 # (+=,-=,/=,*=,%=,**=)\n",
    "print(\"num\", num )"
   ]
  },
  {
   "cell_type": "code",
   "execution_count": 1,
   "id": "161980f0",
   "metadata": {},
   "outputs": [
    {
     "name": "stdout",
     "output_type": "stream",
     "text": [
      "True\n",
      "False\n",
      "False\n",
      "ans operator: True\n",
      "OR operator: True\n",
      "OR operataor: True\n"
     ]
    }
   ],
   "source": [
    "# Logical Operators \n",
    "# not operator are give the vice versa output \n",
    "a = 50\n",
    "b = 30\n",
    "print(not False)\n",
    "print(not True )\n",
    "print(not (a > b))\n",
    "# And operator - both value are true \n",
    "val1 = True\n",
    "val2 = True\n",
    "print(\"ans operator:\", val1 and val2)\n",
    "#  Or operator - \n",
    "print(\"OR operator:\" ,val1 or val2)\n",
    "print(\"OR operataor:\", (a == b) or (a > b))"
   ]
  },
  {
   "cell_type": "markdown",
   "id": "716cfcda",
   "metadata": {},
   "source": [
    "Type Concersion\n",
    "\n"
   ]
  },
  {
   "cell_type": "code",
   "execution_count": 6,
   "id": "9b9ffd78",
   "metadata": {},
   "outputs": [
    {
     "name": "stdout",
     "output_type": "stream",
     "text": [
      "6.25\n"
     ]
    }
   ],
   "source": [
    "# type conversion\n",
    "a = 2\n",
    "b = 4.25\n",
    "\n",
    "sum = a + b #2.0 + 4.25 => 6.25\n",
    "print(sum)\n"
   ]
  },
  {
   "cell_type": "code",
   "execution_count": 10,
   "id": "47300d65",
   "metadata": {},
   "outputs": [
    {
     "name": "stdout",
     "output_type": "stream",
     "text": [
      "<class 'int'>\n",
      "6.25\n"
     ]
    }
   ],
   "source": [
    "# Type Casting \n",
    "a = int(\"2\")\n",
    "b = 4.25\n",
    "print(type(a))\n",
    "print(a + b)"
   ]
  },
  {
   "cell_type": "code",
   "execution_count": 12,
   "id": "e4bde256",
   "metadata": {},
   "outputs": [
    {
     "data": {
      "text/plain": [
       "''"
      ]
     },
     "execution_count": 12,
     "metadata": {},
     "output_type": "execute_result"
    }
   ],
   "source": [
    "name = input(\"enter your name:\")\n",
    "print(\"Welcome\", name )"
   ]
  }
 ],
 "metadata": {
  "kernelspec": {
   "display_name": "base",
   "language": "python",
   "name": "python3"
  },
  "language_info": {
   "codemirror_mode": {
    "name": "ipython",
    "version": 3
   },
   "file_extension": ".py",
   "mimetype": "text/x-python",
   "name": "python",
   "nbconvert_exporter": "python",
   "pygments_lexer": "ipython3",
   "version": "3.12.4"
  }
 },
 "nbformat": 4,
 "nbformat_minor": 5
}
